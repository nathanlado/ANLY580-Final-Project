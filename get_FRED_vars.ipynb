{
 "cells": [
  {
   "cell_type": "code",
   "execution_count": 1,
   "id": "fd2d5e33",
   "metadata": {},
   "outputs": [],
   "source": [
    "import os\n",
    "import re\n",
    "import requests\n",
    "from bs4 import BeautifulSoup\n",
    "import re\n",
    "import pandas as pd\n",
    "import os\n",
    "import time\n",
    "import spacy\n",
    "from spacy.lang.en.stop_words import STOP_WORDS\n",
    "\n",
    "nlp = spacy.load('en_core_web_sm')"
   ]
  },
  {
   "cell_type": "code",
   "execution_count": 1,
   "id": "f16ea866",
   "metadata": {},
   "outputs": [
    {
     "data": {
      "text/plain": [
       "\"\\nev_txt = open('ev_txt.txt', mode = 'w')\\n\\nfor pnum in range(1,20000):\\n    link = 'https://fred.stlouisfed.org/tags/series?et=&ob=pv&od=desc&pageID='+str(pnum)+'&t=usa'\\n    r = requests.get(link)\\n    soup = BeautifulSoup(r.content, 'html.parser')\\n    EVs = soup.find_all('tr', class_=re.compile('series-pager-title'))\\n    for EV in EVs:\\n        text = str(EV.text).strip().lower()\\n        processed = nlp(text)\\n        for nc in processed.noun_chunks:\\n            #print(nc)\\n            ev_txt.write(nc.text +' \\n')\\n\""
      ]
     },
     "execution_count": 1,
     "metadata": {},
     "output_type": "execute_result"
    }
   ],
   "source": [
    "FED_list = []\n",
    "\n",
    "ev_txt = open('ev_txt.txt', mode = 'w')\n",
    "\n",
    "for pnum in range(1,20000):\n",
    "    link = 'https://fred.stlouisfed.org/tags/series?et=&ob=pv&od=desc&pageID='+str(pnum)+'&t=usa'\n",
    "    r = requests.get(link)\n",
    "    soup = BeautifulSoup(r.content, 'html.parser')\n",
    "    EVs = soup.find_all('tr', class_=re.compile('series-pager-title'))\n",
    "    for EV in EVs:\n",
    "        text = str(EV.text).strip().lower()\n",
    "        processed = nlp(text)\n",
    "        for nc in processed.noun_chunks:\n",
    "            #print(nc)\n",
    "            ev_txt.write(nc.text +' \\n')\n"
   ]
  },
  {
   "cell_type": "code",
   "execution_count": 2,
   "id": "3cc7a7d6",
   "metadata": {},
   "outputs": [
    {
     "data": {
      "text/plain": [
       "'from gensim.models.phrases import Phrases, ENGLISH_CONNECTOR_WORDS\\nspacy_stopwords = spacy.lang.en.stop_words.STOP_WORDS \\nEV_list = []\\nEV_count = {}\\nphrase_model = Phrases(FED_list, min_count=1, threshold=1, connector_words=ENGLISH_CONNECTOR_WORDS)\\nphraser = phrase_model.freeze()\\nfor sentence in FED_list:\\n    for phrase in phraser[sentence]:\\n        \\n        if phrase not in spacy_stopwords and len(phrase.strip())>2:\\n            if phrase in EV_count:\\n                EV_count[phrase]+= 1\\n            else:\\n                EV_count[phrase] = 1'"
      ]
     },
     "execution_count": 2,
     "metadata": {},
     "output_type": "execute_result"
    }
   ],
   "source": [
    "from gensim.models.phrases import Phrases, ENGLISH_CONNECTOR_WORDS\n",
    "spacy_stopwords = spacy.lang.en.stop_words.STOP_WORDS \n",
    "EV_list = []\n",
    "EV_count = {}\n",
    "phrase_model = Phrases(FED_list, min_count=1, threshold=1, connector_words=ENGLISH_CONNECTOR_WORDS)\n",
    "phraser = phrase_model.freeze()\n",
    "for sentence in FED_list:\n",
    "    for phrase in phraser[sentence]:\n",
    "        \n",
    "        if phrase not in spacy_stopwords and len(phrase.strip())>2:\n",
    "            if phrase in EV_count:\n",
    "                EV_count[phrase]+= 1\n",
    "            else:\n",
    "                EV_count[phrase] = 1\n"
   ]
  },
  {
   "cell_type": "code",
   "execution_count": 59,
   "id": "4b639f6d",
   "metadata": {},
   "outputs": [
    {
     "data": {
      "text/plain": [
       "(array([337., 188.,  53.,  35.,   0.,  22.,  13.,  12.,   0.,   0.,   4.,\n",
       "          2.,   7.,   4.,   0.,   1.,   2.,   3.,   0.,   0.,   1.,   2.,\n",
       "          1.,   0.,   2.,   2.,   0.,   0.,   0.,   0.,   0.,   0.,   0.,\n",
       "          0.,   1.,   0.,   0.,   0.,   0.,   0.,   0.,   0.,   0.,   0.,\n",
       "          0.,   1.,   0.,   0.,   0.,   0.,   0.,   0.,   0.,   0.,   0.,\n",
       "          0.,   0.,   0.,   0.,   0.,   0.,   0.,   0.,   1.,   0.,   0.,\n",
       "          0.,   0.,   0.,   0.,   0.,   0.,   0.,   0.,   0.,   0.,   0.,\n",
       "          0.,   0.,   0.,   0.,   0.,   0.,   0.,   0.,   0.,   0.,   0.,\n",
       "          0.,   0.,   0.,   0.,   0.,   0.,   0.,   0.,   0.,   0.,   0.,\n",
       "          1.]),\n",
       " array([ 1.  ,  1.79,  2.58,  3.37,  4.16,  4.95,  5.74,  6.53,  7.32,\n",
       "         8.11,  8.9 ,  9.69, 10.48, 11.27, 12.06, 12.85, 13.64, 14.43,\n",
       "        15.22, 16.01, 16.8 , 17.59, 18.38, 19.17, 19.96, 20.75, 21.54,\n",
       "        22.33, 23.12, 23.91, 24.7 , 25.49, 26.28, 27.07, 27.86, 28.65,\n",
       "        29.44, 30.23, 31.02, 31.81, 32.6 , 33.39, 34.18, 34.97, 35.76,\n",
       "        36.55, 37.34, 38.13, 38.92, 39.71, 40.5 , 41.29, 42.08, 42.87,\n",
       "        43.66, 44.45, 45.24, 46.03, 46.82, 47.61, 48.4 , 49.19, 49.98,\n",
       "        50.77, 51.56, 52.35, 53.14, 53.93, 54.72, 55.51, 56.3 , 57.09,\n",
       "        57.88, 58.67, 59.46, 60.25, 61.04, 61.83, 62.62, 63.41, 64.2 ,\n",
       "        64.99, 65.78, 66.57, 67.36, 68.15, 68.94, 69.73, 70.52, 71.31,\n",
       "        72.1 , 72.89, 73.68, 74.47, 75.26, 76.05, 76.84, 77.63, 78.42,\n",
       "        79.21, 80.  ]),\n",
       " <BarContainer object of 100 artists>)"
      ]
     },
     "execution_count": 59,
     "metadata": {},
     "output_type": "execute_result"
    },
    {
     "data": {
      "image/png": "[encoded data removed]",
      "text/plain": [
       "<Figure size 432x288 with 1 Axes>"
      ]
     },
     "metadata": {
      "needs_background": "light"
     },
     "output_type": "display_data"
    }
   ],
   "source": [
    "FED_list = []\n",
    "\n",
    "ev_txt = open('ev_txt.txt', mode = 'w')\n",
    "\n",
    "for pnum in range(1,20000):\n",
    "    link = 'https://fred.stlouisfed.org/tags/series?et=&ob=pv&od=desc&pageID='+str(pnum)+'&t=usa'\n",
    "    r = requests.get(link)\n",
    "    soup = BeautifulSoup(r.content, 'html.parser')\n",
    "    EVs = soup.find_all('tr', class_=re.compile('series-pager-title'))\n",
    "    for EV in EVs:\n",
    "        text = str(EV.text).strip().lower()\n",
    "        processed = nlp(text)\n",
    "        for nc in processed.noun_chunks:\n",
    "            #print(nc)\n",
    "            ev_txt.write(nc.text +' \\n')\n",
    "\n",
    "    print(pnum)"
   ]
  },
  {
   "cell_type": "code",
   "execution_count": null,
   "id": "7a0ea073",
   "metadata": {},
   "outputs": [],
   "source": [
    "EV"
   ]
  }
 ],
 "metadata": {
  "kernelspec": {
   "display_name": "Python 3 (ipykernel)",
   "language": "python",
   "name": "python3"
  },
  "language_info": {
   "codemirror_mode": {
    "name": "ipython",
    "version": 3
   },
   "file_extension": ".py",
   "mimetype": "text/x-python",
   "name": "python",
   "nbconvert_exporter": "python",
   "pygments_lexer": "ipython3",
   "version": "3.9.6"
  },
  "toc": {
   "base_numbering": 1,
   "nav_menu": {},
   "number_sections": true,
   "sideBar": true,
   "skip_h1_title": false,
   "title_cell": "Table of Contents",
   "title_sidebar": "Contents",
   "toc_cell": false,
   "toc_position": {},
   "toc_section_display": true,
   "toc_window_display": false
  }
 },
 "nbformat": 4,
 "nbformat_minor": 5
}
